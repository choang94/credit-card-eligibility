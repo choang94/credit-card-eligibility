{
 "cells": [
  {
   "cell_type": "markdown",
   "metadata": {},
   "source": [
    "# Binary Classification Algorithms"
   ]
  },
  {
   "cell_type": "markdown",
   "metadata": {},
   "source": [
    "## Load data"
   ]
  },
  {
   "cell_type": "code",
   "execution_count": 1,
   "metadata": {},
   "outputs": [
    {
     "name": "stdout",
     "output_type": "stream",
     "text": [
      "/workspaces/credit-card-eligibility/\n"
     ]
    }
   ],
   "source": [
    "import pandas as pd\n",
    "import numpy as np\n",
    "import os\n",
    "\n",
    "path = os.getcwd().replace('notebooks', '')\n",
    "print(path)\n",
    "os.chdir(path)\n",
    "\n",
    "from sklearn.model_selection import train_test_split\n",
    "\n",
    "from lib.data_load import get_data_matrix, plot_target_variable"
   ]
  },
  {
   "cell_type": "code",
   "execution_count": 2,
   "metadata": {},
   "outputs": [],
   "source": [
    "%load_ext autoreload\n",
    "%autoreload 2"
   ]
  },
  {
   "cell_type": "code",
   "execution_count": 3,
   "metadata": {},
   "outputs": [
    {
     "data": {
      "text/html": [
       "<div>\n",
       "<style scoped>\n",
       "    .dataframe tbody tr th:only-of-type {\n",
       "        vertical-align: middle;\n",
       "    }\n",
       "\n",
       "    .dataframe tbody tr th {\n",
       "        vertical-align: top;\n",
       "    }\n",
       "\n",
       "    .dataframe thead th {\n",
       "        text-align: right;\n",
       "    }\n",
       "</style>\n",
       "<table border=\"1\" class=\"dataframe\">\n",
       "  <thead>\n",
       "    <tr style=\"text-align: right;\">\n",
       "      <th></th>\n",
       "      <th>ID</th>\n",
       "      <th>Gender</th>\n",
       "      <th>Own_car</th>\n",
       "      <th>Own_property</th>\n",
       "      <th>Work_phone</th>\n",
       "      <th>Phone</th>\n",
       "      <th>Email</th>\n",
       "      <th>Unemployed</th>\n",
       "      <th>Num_children</th>\n",
       "      <th>Num_family</th>\n",
       "      <th>Account_length</th>\n",
       "      <th>Total_income</th>\n",
       "      <th>Age</th>\n",
       "      <th>Years_employed</th>\n",
       "      <th>Income_type</th>\n",
       "      <th>Education_type</th>\n",
       "      <th>Family_status</th>\n",
       "      <th>Housing_type</th>\n",
       "      <th>Occupation_type</th>\n",
       "      <th>Target</th>\n",
       "    </tr>\n",
       "  </thead>\n",
       "  <tbody>\n",
       "    <tr>\n",
       "      <th>0</th>\n",
       "      <td>5008804</td>\n",
       "      <td>1</td>\n",
       "      <td>1</td>\n",
       "      <td>1</td>\n",
       "      <td>1</td>\n",
       "      <td>0</td>\n",
       "      <td>0</td>\n",
       "      <td>0</td>\n",
       "      <td>0</td>\n",
       "      <td>2</td>\n",
       "      <td>15</td>\n",
       "      <td>427500.0</td>\n",
       "      <td>32.868574</td>\n",
       "      <td>12.435574</td>\n",
       "      <td>Working</td>\n",
       "      <td>Higher education</td>\n",
       "      <td>Civil marriage</td>\n",
       "      <td>Rented apartment</td>\n",
       "      <td>Other</td>\n",
       "      <td>1</td>\n",
       "    </tr>\n",
       "    <tr>\n",
       "      <th>1</th>\n",
       "      <td>5008806</td>\n",
       "      <td>1</td>\n",
       "      <td>1</td>\n",
       "      <td>1</td>\n",
       "      <td>0</td>\n",
       "      <td>0</td>\n",
       "      <td>0</td>\n",
       "      <td>0</td>\n",
       "      <td>0</td>\n",
       "      <td>2</td>\n",
       "      <td>29</td>\n",
       "      <td>112500.0</td>\n",
       "      <td>58.793815</td>\n",
       "      <td>3.104787</td>\n",
       "      <td>Working</td>\n",
       "      <td>Secondary / secondary special</td>\n",
       "      <td>Married</td>\n",
       "      <td>House / apartment</td>\n",
       "      <td>Security staff</td>\n",
       "      <td>0</td>\n",
       "    </tr>\n",
       "    <tr>\n",
       "      <th>2</th>\n",
       "      <td>5008808</td>\n",
       "      <td>0</td>\n",
       "      <td>0</td>\n",
       "      <td>1</td>\n",
       "      <td>0</td>\n",
       "      <td>1</td>\n",
       "      <td>1</td>\n",
       "      <td>0</td>\n",
       "      <td>0</td>\n",
       "      <td>1</td>\n",
       "      <td>4</td>\n",
       "      <td>270000.0</td>\n",
       "      <td>52.321403</td>\n",
       "      <td>8.353354</td>\n",
       "      <td>Commercial associate</td>\n",
       "      <td>Secondary / secondary special</td>\n",
       "      <td>Single / not married</td>\n",
       "      <td>House / apartment</td>\n",
       "      <td>Sales staff</td>\n",
       "      <td>0</td>\n",
       "    </tr>\n",
       "    <tr>\n",
       "      <th>3</th>\n",
       "      <td>5008812</td>\n",
       "      <td>0</td>\n",
       "      <td>0</td>\n",
       "      <td>1</td>\n",
       "      <td>0</td>\n",
       "      <td>0</td>\n",
       "      <td>0</td>\n",
       "      <td>1</td>\n",
       "      <td>0</td>\n",
       "      <td>1</td>\n",
       "      <td>20</td>\n",
       "      <td>283500.0</td>\n",
       "      <td>61.504343</td>\n",
       "      <td>0.000000</td>\n",
       "      <td>Pensioner</td>\n",
       "      <td>Higher education</td>\n",
       "      <td>Separated</td>\n",
       "      <td>House / apartment</td>\n",
       "      <td>Other</td>\n",
       "      <td>0</td>\n",
       "    </tr>\n",
       "    <tr>\n",
       "      <th>4</th>\n",
       "      <td>5008815</td>\n",
       "      <td>1</td>\n",
       "      <td>1</td>\n",
       "      <td>1</td>\n",
       "      <td>1</td>\n",
       "      <td>1</td>\n",
       "      <td>1</td>\n",
       "      <td>0</td>\n",
       "      <td>0</td>\n",
       "      <td>2</td>\n",
       "      <td>5</td>\n",
       "      <td>270000.0</td>\n",
       "      <td>46.193967</td>\n",
       "      <td>2.105450</td>\n",
       "      <td>Working</td>\n",
       "      <td>Higher education</td>\n",
       "      <td>Married</td>\n",
       "      <td>House / apartment</td>\n",
       "      <td>Accountants</td>\n",
       "      <td>0</td>\n",
       "    </tr>\n",
       "  </tbody>\n",
       "</table>\n",
       "</div>"
      ],
      "text/plain": [
       "        ID  Gender  Own_car  Own_property  Work_phone  Phone  Email  \\\n",
       "0  5008804       1        1             1           1      0      0   \n",
       "1  5008806       1        1             1           0      0      0   \n",
       "2  5008808       0        0             1           0      1      1   \n",
       "3  5008812       0        0             1           0      0      0   \n",
       "4  5008815       1        1             1           1      1      1   \n",
       "\n",
       "   Unemployed  Num_children  Num_family  Account_length  Total_income  \\\n",
       "0           0             0           2              15      427500.0   \n",
       "1           0             0           2              29      112500.0   \n",
       "2           0             0           1               4      270000.0   \n",
       "3           1             0           1              20      283500.0   \n",
       "4           0             0           2               5      270000.0   \n",
       "\n",
       "         Age  Years_employed           Income_type  \\\n",
       "0  32.868574       12.435574               Working   \n",
       "1  58.793815        3.104787               Working   \n",
       "2  52.321403        8.353354  Commercial associate   \n",
       "3  61.504343        0.000000             Pensioner   \n",
       "4  46.193967        2.105450               Working   \n",
       "\n",
       "                  Education_type         Family_status       Housing_type  \\\n",
       "0               Higher education        Civil marriage   Rented apartment   \n",
       "1  Secondary / secondary special               Married  House / apartment   \n",
       "2  Secondary / secondary special  Single / not married  House / apartment   \n",
       "3               Higher education             Separated  House / apartment   \n",
       "4               Higher education               Married  House / apartment   \n",
       "\n",
       "  Occupation_type  Target  \n",
       "0           Other       1  \n",
       "1  Security staff       0  \n",
       "2     Sales staff       0  \n",
       "3           Other       0  \n",
       "4     Accountants       0  "
      ]
     },
     "execution_count": 3,
     "metadata": {},
     "output_type": "execute_result"
    }
   ],
   "source": [
    "data = pd.read_csv('notebooks/dataset.csv')\n",
    "data.head()"
   ]
  },
  {
   "cell_type": "code",
   "execution_count": 4,
   "metadata": {},
   "outputs": [],
   "source": [
    "X, y = get_data_matrix(data=data, target = 'Target', excluded_features=['ID'])"
   ]
  },
  {
   "cell_type": "code",
   "execution_count": 5,
   "metadata": {},
   "outputs": [
    {
     "name": "stdout",
     "output_type": "stream",
     "text": [
      "Shape of training data: (7767, 18)\n",
      "Shape of test data: (1942, 18)\n",
      "\n",
      "Shape of training data: (5825, 18)\n",
      "Shape of validation data: (1942, 18)\n",
      "\n"
     ]
    }
   ],
   "source": [
    "\n",
    "# Split data into training set and test set\n",
    "X_train, X_test, y_train, y_test = train_test_split(X, y, test_size=0.2, random_state=1, stratify=y)\n",
    "\n",
    "print(f\"\"\"Shape of training data: {X_train.shape}\n",
    "Shape of test data: {X_test.shape}\n",
    "\"\"\")\n",
    "\n",
    "# Split the training set into training and validation set\n",
    "X_train, X_val, y_train, y_val = train_test_split(X_train, y_train, test_size=0.25, random_state=1, stratify=y_train)\n",
    "print(f\"\"\"Shape of training data: {X_train.shape}\n",
    "Shape of validation data: {X_val.shape}\n",
    "\"\"\")"
   ]
  },
  {
   "cell_type": "code",
   "execution_count": 6,
   "metadata": {},
   "outputs": [
    {
     "data": {
      "image/png": "[encoded data removed]",
      "text/plain": [
       "<Figure size 640x480 with 1 Axes>"
      ]
     },
     "metadata": {},
     "output_type": "display_data"
    }
   ],
   "source": [
    "plot_target_variable(y_train=y_train, n_class=2, tick_labels=[0,1])"
   ]
  },
  {
   "cell_type": "markdown",
   "metadata": {},
   "source": [
    "## Feature Preprocessing"
   ]
  },
  {
   "cell_type": "code",
   "execution_count": 7,
   "metadata": {},
   "outputs": [],
   "source": [
    "from sklearn.pipeline import Pipeline\n",
    "from sklearn.compose import ColumnTransformer\n",
    "from sklearn.preprocessing import OneHotEncoder, OrdinalEncoder, MinMaxScaler\n",
    "from sklearn.metrics import classification_report, roc_auc_score"
   ]
  },
  {
   "cell_type": "code",
   "execution_count": 8,
   "metadata": {},
   "outputs": [],
   "source": [
    "numerical_columns = ['Num_children', 'Num_family', 'Account_length', 'Total_income', 'Age', 'Years_employed']\n",
    "categorical_columns = ['Income_type', 'Family_status', 'Housing_type', 'Occupation_type'] \n",
    "ordinal_columns = ['Education_type']\n",
    "# For education, create an order for the categories\n",
    "education_order = ['Lower secondary', 'Secondary / secondary special', 'Incomplete higher', 'Academic degree', 'Higher education']"
   ]
  },
  {
   "cell_type": "code",
   "execution_count": 9,
   "metadata": {},
   "outputs": [],
   "source": [
    "# Create a pipeline that preprocess the data by data types\n",
    "\n",
    "numerical_transformer = Pipeline(\n",
    "    steps=[\n",
    "        ('normalization', MinMaxScaler())\n",
    "    ]\n",
    ")\n",
    "\n",
    "categorical_transformer = Pipeline(\n",
    "    steps=[\n",
    "        ('ohe', OneHotEncoder(handle_unknown='ignore'))\n",
    "    ]\n",
    ")\n",
    "\n",
    "ordinal_transformer = Pipeline(\n",
    "    steps=[\n",
    "        ('oe', OrdinalEncoder(categories=[np.array(education_order)]))\n",
    "    ]\n",
    ")\n",
    "\n",
    "preprocessor = ColumnTransformer(\n",
    "    transformers=[\n",
    "        ('numerical', numerical_transformer, numerical_columns),\n",
    "        ('categorical', categorical_transformer, categorical_columns),\n",
    "        ('ordinal', ordinal_transformer, ordinal_columns)\n",
    "    ]\n",
    ")\n",
    "\n",
    "pipe = Pipeline(\n",
    "    steps=[\n",
    "        ('preprocessing', preprocessor)\n",
    "    ]\n",
    ")"
   ]
  },
  {
   "cell_type": "markdown",
   "metadata": {},
   "source": [
    "## Sample Weight for Imbalanced class"
   ]
  },
  {
   "cell_type": "code",
   "execution_count": 10,
   "metadata": {},
   "outputs": [
    {
     "data": {
      "text/html": [
       "<div>\n",
       "<style scoped>\n",
       "    .dataframe tbody tr th:only-of-type {\n",
       "        vertical-align: middle;\n",
       "    }\n",
       "\n",
       "    .dataframe tbody tr th {\n",
       "        vertical-align: top;\n",
       "    }\n",
       "\n",
       "    .dataframe thead th {\n",
       "        text-align: right;\n",
       "    }\n",
       "</style>\n",
       "<table border=\"1\" class=\"dataframe\">\n",
       "  <thead>\n",
       "    <tr style=\"text-align: right;\">\n",
       "      <th></th>\n",
       "      <th>Target</th>\n",
       "      <th>count</th>\n",
       "      <th>percent</th>\n",
       "    </tr>\n",
       "  </thead>\n",
       "  <tbody>\n",
       "    <tr>\n",
       "      <th>0</th>\n",
       "      <td>0</td>\n",
       "      <td>5056</td>\n",
       "      <td>0.867983</td>\n",
       "    </tr>\n",
       "    <tr>\n",
       "      <th>1</th>\n",
       "      <td>1</td>\n",
       "      <td>769</td>\n",
       "      <td>0.132017</td>\n",
       "    </tr>\n",
       "  </tbody>\n",
       "</table>\n",
       "</div>"
      ],
      "text/plain": [
       "   Target  count   percent\n",
       "0       0   5056  0.867983\n",
       "1       1    769  0.132017"
      ]
     },
     "execution_count": 10,
     "metadata": {},
     "output_type": "execute_result"
    }
   ],
   "source": [
    "y_train_count = pd.DataFrame(y_train.value_counts()).reset_index()\n",
    "y_train_count['percent'] = y_train_count['count']/ sum(y_train_count['count'])\n",
    "y_train_count"
   ]
  },
  {
   "cell_type": "markdown",
   "metadata": {},
   "source": [
    "The data is highly imbalanced with Not Eligible, or when Target = 0, is the majority.\n",
    "Therefore, I use sample weights to train the model with heavier weight on the minority group"
   ]
  },
  {
   "cell_type": "code",
   "execution_count": 11,
   "metadata": {},
   "outputs": [
    {
     "data": {
      "text/plain": [
       "6.574772431729519"
      ]
     },
     "execution_count": 11,
     "metadata": {},
     "output_type": "execute_result"
    }
   ],
   "source": [
    "# Check the ratio of 0:1\n",
    "zero_one_ratio = y_train_count.loc[0, 'count']/y_train_count.loc[1, 'count']\n",
    "zero_one_ratio"
   ]
  },
  {
   "cell_type": "code",
   "execution_count": 12,
   "metadata": {},
   "outputs": [
    {
     "data": {
      "text/plain": [
       "0.15"
      ]
     },
     "execution_count": 12,
     "metadata": {},
     "output_type": "execute_result"
    }
   ],
   "source": [
    "# Use reciprocal of the ratio as weight\n",
    "zero_weight = round(1/zero_one_ratio, 2)\n",
    "zero_weight"
   ]
  },
  {
   "cell_type": "code",
   "execution_count": 13,
   "metadata": {},
   "outputs": [
    {
     "data": {
      "text/plain": [
       "[{1: 1, 0: 0.12},\n",
       " {1: 1, 0: 0.13},\n",
       " {1: 1, 0: 0.14},\n",
       " {1: 1, 0: 0.15},\n",
       " {1: 1, 0: 0.16},\n",
       " {1: 1, 0: 0.17}]"
      ]
     },
     "execution_count": 13,
     "metadata": {},
     "output_type": "execute_result"
    }
   ],
   "source": [
    "# Create a list of different dictionaries for class weights to compare the result with the 'balanced' option for the class_weight parameter\n",
    "zero_weight_range = np.arange(zero_weight - 0.03, zero_weight + 0.03, 0.01)\n",
    "\n",
    "custom_class_weights = []\n",
    "\n",
    "for weight in zero_weight_range:\n",
    "    class_weight = {}\n",
    "    class_weight[1] = 1 \n",
    "    class_weight[0] = round(weight, 2)\n",
    "    custom_class_weights.append(class_weight)\n",
    "\n",
    "custom_class_weights\n"
   ]
  },
  {
   "cell_type": "markdown",
   "metadata": {},
   "source": [
    "## Create Baseline"
   ]
  },
  {
   "cell_type": "code",
   "execution_count": 14,
   "metadata": {},
   "outputs": [],
   "source": [
    "# Generate a random sample of 0s and 1s as prediction then calculate ROC AUC score as baseline\n",
    "size = y_val.shape[0]\n",
    "p = y_train_count.iloc[1,2]\n",
    "\n",
    "np.random.seed(2)\n",
    "y_baseline = np.random.binomial(n=1, p=p, size=size)"
   ]
  },
  {
   "cell_type": "code",
   "execution_count": 147,
   "metadata": {},
   "outputs": [
    {
     "name": "stdout",
     "output_type": "stream",
     "text": [
      "              precision    recall  f1-score   support\n",
      "\n",
      "           0       0.87      0.86      0.87      1685\n",
      "           1       0.13      0.13      0.13       257\n",
      "\n",
      "    accuracy                           0.77      1942\n",
      "   macro avg       0.50      0.50      0.50      1942\n",
      "weighted avg       0.77      0.77      0.77      1942\n",
      "\n",
      "Baseline's ROC AUC score: 0.49654654828020184\n"
     ]
    }
   ],
   "source": [
    "baseline_roc_auc = roc_auc_score(y_val, y_baseline)\n",
    "print(classification_report(y_val, y_baseline))\n",
    "print(f\"Baseline's ROC AUC score: {baseline_roc_auc}\")"
   ]
  },
  {
   "cell_type": "markdown",
   "metadata": {},
   "source": [
    "## GridSearch CV\n",
    "\n",
    "Test different Binary Classifiers to find the best performer"
   ]
  },
  {
   "cell_type": "code",
   "execution_count": 122,
   "metadata": {},
   "outputs": [],
   "source": [
    "from sklearn.model_selection import GridSearchCV\n",
    "from tabulate import tabulate\n",
    "\n",
    "# Classification Models\n",
    "from sklearn.linear_model import LogisticRegression\n",
    "from sklearn.neighbors import KNeighborsClassifier\n",
    "from sklearn.ensemble import RandomForestClassifier\n",
    "from sklearn.tree import DecisionTreeClassifier\n",
    "from sklearn import svm"
   ]
  },
  {
   "cell_type": "code",
   "execution_count": 17,
   "metadata": {},
   "outputs": [],
   "source": [
    "# Define different pipelines\n",
    "pipe_lr = Pipeline([('preprocessing', preprocessor),\n",
    "                    ('LR', LogisticRegression(random_state=42))])\n",
    "pipe_rf = Pipeline([('preprocessing', preprocessor),\n",
    "                    ('RF',RandomForestClassifier(random_state=42))])\n",
    "pipe_knn = Pipeline([('preprocessing', preprocessor),\n",
    "                    ('KNN', KNeighborsClassifier())])\n",
    "pipe_svm = Pipeline([('preprocessing', preprocessor),\n",
    "                     ('SVM', svm.SVC(random_state=42))])\n",
    "pipe_dt = Pipeline([('preprocessing', preprocessor),\n",
    "                    ('DT',DecisionTreeClassifier(random_state=42))])\n"
   ]
  },
  {
   "cell_type": "code",
   "execution_count": 89,
   "metadata": {},
   "outputs": [],
   "source": [
    "# Define different params for each model\n",
    "param_range = [0, 1, 2, 3, 4, 5, 6]\n",
    "class_weight_list = custom_class_weights + ['balanced']\n",
    "\n",
    "lr_param_grid = [{'LR__class_weight': class_weight_list}]\n",
    "rf_param_grid = [{'RF__class_weight': class_weight_list,\n",
    "                  'RF__criterion': ['log_loss', 'entropy']\n",
    "                  }]\n",
    "knn_param_grid = [{'KNN__n_neighbors': [3, 5],\n",
    "                   'KNN__weights': ['uniform', 'distance'],\n",
    "                   'KNN__metric': ['euclidean', 'manhattan']}]\n",
    "\n",
    "svm_param_grid = [{'SVM__C': [1, 10, 100],\n",
    "                    'SVM__kernel': ['linear', 'rbf'],\n",
    "                    'SVM__class_weight': class_weight_list}]\n",
    "\n",
    "dt_param_grid = [{'DT__criterion': ['gini', 'entropy'],\n",
    "                   'DT__min_samples_leaf': param_range[1:],\n",
    "                   'DT__max_depth': param_range[1:],\n",
    "                   'DT__min_samples_split': param_range[2:],\n",
    "                   'DT__class_weight': class_weight_list}]"
   ]
  },
  {
   "cell_type": "code",
   "execution_count": 132,
   "metadata": {},
   "outputs": [],
   "source": [
    "lr_grid_search = GridSearchCV(estimator=pipe_lr,\n",
    "        param_grid=lr_param_grid,\n",
    "        scoring='roc_auc',\n",
    "        cv=3)\n",
    "\n",
    "rf_grid_search = GridSearchCV(estimator=pipe_rf,\n",
    "        param_grid=rf_param_grid,\n",
    "        scoring='roc_auc',\n",
    "        cv=3)\n",
    "\n",
    "knn_grid_search = GridSearchCV(estimator=pipe_knn,\n",
    "        param_grid=knn_param_grid,\n",
    "        scoring='roc_auc',\n",
    "        cv=3)\n",
    "\n",
    "svm_grid_search = GridSearchCV(estimator=pipe_svm,\n",
    "        param_grid=svm_param_grid,\n",
    "        scoring='roc_auc',\n",
    "        cv=3)\n",
    "\n",
    "dt_grid_search = GridSearchCV(estimator=pipe_dt,\n",
    "        param_grid=dt_param_grid,\n",
    "        scoring='roc_auc',\n",
    "        cv=3)"
   ]
  },
  {
   "cell_type": "code",
   "execution_count": 133,
   "metadata": {},
   "outputs": [],
   "source": [
    "# Train the models\n",
    "grids = [lr_grid_search, rf_grid_search, knn_grid_search, svm_grid_search, dt_grid_search]\n",
    "for pipe in grids:\n",
    "    pipe.fit(X_train, y_train.values.ravel())"
   ]
  },
  {
   "cell_type": "code",
   "execution_count": 148,
   "metadata": {},
   "outputs": [],
   "source": [
    "# Store ROC AUC scores and best params\n",
    "grid_dict = {0: 'Logistic Regression', 1: 'Random Forest', 2: 'KNN', 3: 'SVM', 4: 'Decision Tree'}\n",
    "\n",
    "# Create a list of results and add baseline ROC AUC score\n",
    "result_table = []\n",
    "result_table.append(['Baseline', baseline_roc_auc])\n",
    "\n",
    "best_params_table = []\n",
    "for i, model in enumerate(grids):\n",
    "    result_table.append([grid_dict[i], model.score(X_val, y_val)])\n",
    "    best_params_table.append([grid_dict[i], model.best_params_])"
   ]
  },
  {
   "cell_type": "code",
   "execution_count": 149,
   "metadata": {},
   "outputs": [
    {
     "name": "stdout",
     "output_type": "stream",
     "text": [
      "╒═════════════════════╤═════════════════╕\n",
      "│ Model               │   ROC_AUC_score │\n",
      "╞═════════════════════╪═════════════════╡\n",
      "│ Baseline            │        0.496547 │\n",
      "│ Logistic Regression │        0.551836 │\n",
      "│ Random Forest       │        0.532056 │\n",
      "│ KNN                 │        0.503654 │\n",
      "│ SVM                 │        0.553626 │\n",
      "│ Decision Tree       │        0.558264 │\n",
      "╘═════════════════════╧═════════════════╛\n"
     ]
    }
   ],
   "source": [
    "# Get ROC_AUC score on Validation set for all models\n",
    "print(tabulate(result_table, headers=[\"Model\",\"ROC_AUC_score\", \"\"], tablefmt='fancy_outline'))"
   ]
  },
  {
   "cell_type": "code",
   "execution_count": 150,
   "metadata": {},
   "outputs": [
    {
     "name": "stdout",
     "output_type": "stream",
     "text": [
      "╒═════════════════════╤═══════════════════════════════════════════════════════════════════════════════════════════════════════════════════════════════════════════╕\n",
      "│ Model               │ Best Params                                                                                                                               │\n",
      "╞═════════════════════╪═══════════════════════════════════════════════════════════════════════════════════════════════════════════════════════════════════════════╡\n",
      "│ Logistic Regression │ {'LR__class_weight': {1: 1, 0: 0.12}}                                                                                                     │\n",
      "│ Random Forest       │ {'RF__class_weight': {1: 1, 0: 0.16}, 'RF__criterion': 'log_loss'}                                                                        │\n",
      "│ KNN                 │ {'KNN__metric': 'manhattan', 'KNN__n_neighbors': 5, 'KNN__weights': 'distance'}                                                           │\n",
      "│ SVM                 │ {'SVM__C': 1, 'SVM__class_weight': {1: 1, 0: 0.15}, 'SVM__kernel': 'linear'}                                                              │\n",
      "│ Decision Tree       │ {'DT__class_weight': {1: 1, 0: 0.17}, 'DT__criterion': 'gini', 'DT__max_depth': 3, 'DT__min_samples_leaf': 2, 'DT__min_samples_split': 2} │\n",
      "╘═════════════════════╧═══════════════════════════════════════════════════════════════════════════════════════════════════════════════════════════════════════════╛\n"
     ]
    }
   ],
   "source": [
    "# Get the best params for each model\n",
    "print(tabulate(best_params_table, headers=[\"Model\",\"Best Params\"], tablefmt='fancy_outline'))"
   ]
  },
  {
   "cell_type": "markdown",
   "metadata": {},
   "source": [
    "Decision Tree performs the best out of all classifiers.\n",
    "Now I will run the DT model on test set"
   ]
  },
  {
   "cell_type": "code",
   "execution_count": 151,
   "metadata": {},
   "outputs": [
    {
     "data": {
      "text/plain": [
       "0.5904294011015022"
      ]
     },
     "execution_count": 151,
     "metadata": {},
     "output_type": "execute_result"
    }
   ],
   "source": [
    "dt_grid_search.score(X_test, y_test)"
   ]
  },
  {
   "cell_type": "markdown",
   "metadata": {},
   "source": [
    "The ROC AUC score is higher on test set than training set but not too different. The model is not overfitting."
   ]
  }
 ],
 "metadata": {
  "kernelspec": {
   "display_name": "Python 3",
   "language": "python",
   "name": "python3"
  },
  "language_info": {
   "codemirror_mode": {
    "name": "ipython",
    "version": 3
   },
   "file_extension": ".py",
   "mimetype": "text/x-python",
   "name": "python",
   "nbconvert_exporter": "python",
   "pygments_lexer": "ipython3",
   "version": "3.10.13"
  }
 },
 "nbformat": 4,
 "nbformat_minor": 2
}
